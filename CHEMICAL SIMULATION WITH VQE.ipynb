{
 "cells": [
  {
   "cell_type": "code",
   "execution_count": 6,
   "id": "9fe0073b",
   "metadata": {},
   "outputs": [],
   "source": [
    "import numpy as np\n",
    "# Importing standard Qiskit libraries\n",
    "from qiskit import QuantumCircuit, transpile, Aer, IBMQ\n",
    "from qiskit.tools.jupyter import *\n",
    "from qiskit.visualization import *\n",
    "from ibm_quantum_widgets import *\n",
    "\n",
    "# Loading your IBM Quantum account(s)\n",
    "provider = IBMQ.load_account()"
   ]
  },
  {
   "cell_type": "code",
   "execution_count": 8,
   "id": "0034eab6",
   "metadata": {},
   "outputs": [
    {
     "name": "stdout",
     "output_type": "stream",
     "text": [
      "Traceback \u001b[1;36m(most recent call last)\u001b[0m:\n",
      "  File \u001b[0;32m\"/tmp/ipykernel_164/58763836.py\"\u001b[0m, line \u001b[0;32m1\u001b[0m, in \u001b[0;35m<module>\u001b[0m\n",
      "    from qiskit.chemistry.drivers import PySCFDriver, UnitsType, Molecule\n",
      "  File \u001b[0;32m\"/opt/conda/lib/python3.8/site-packages/qiskit/chemistry/drivers/__init__.py\"\u001b[0m, line \u001b[0;32m144\u001b[0m, in \u001b[0;35m<module>\u001b[0m\n",
      "    from .pyscfd import PySCFDriver, InitialGuess\n",
      "  File \u001b[0;32m\"/opt/conda/lib/python3.8/site-packages/qiskit/chemistry/drivers/pyscfd/__init__.py\"\u001b[0m, line \u001b[0;32m26\u001b[0m, in \u001b[0;35m<module>\u001b[0m\n",
      "    from .pyscfdriver import PySCFDriver, InitialGuess\n",
      "  File \u001b[0;32m\"/opt/conda/lib/python3.8/site-packages/qiskit/chemistry/drivers/pyscfd/pyscfdriver.py\"\u001b[0m, line \u001b[0;32m25\u001b[0m, in \u001b[0;35m<module>\u001b[0m\n",
      "    from .integrals import compute_integrals\n",
      "  File \u001b[0;32m\"/opt/conda/lib/python3.8/site-packages/qiskit/chemistry/drivers/pyscfd/integrals.py\"\u001b[0m, line \u001b[0;32m25\u001b[0m, in \u001b[0;35m<module>\u001b[0m\n",
      "    from pyscf import gto, scf, ao2mo\n",
      "  File \u001b[0;32m\"/opt/conda/lib/python3.8/site-packages/pyscf/__init__.py\"\u001b[0m, line \u001b[0;32m71\u001b[0m, in \u001b[0;35m<module>\u001b[0m\n",
      "    from pyscf import lib\n",
      "  File \u001b[0;32m\"/opt/conda/lib/python3.8/site-packages/pyscf/lib/__init__.py\"\u001b[0m, line \u001b[0;32m24\u001b[0m, in \u001b[0;35m<module>\u001b[0m\n",
      "    from pyscf.lib import numpy_helper\n",
      "  File \u001b[0;32m\"/opt/conda/lib/python3.8/site-packages/pyscf/lib/numpy_helper.py\"\u001b[0m, line \u001b[0;32m27\u001b[0m, in \u001b[0;35m<module>\u001b[0m\n",
      "    from pyscf.lib import misc\n",
      "  File \u001b[0;32m\"/opt/conda/lib/python3.8/site-packages/pyscf/lib/misc.py\"\u001b[0m, line \u001b[0;32m47\u001b[0m, in \u001b[0;35m<module>\u001b[0m\n",
      "    h5py.get_config().default_file_mode = 'a'\n",
      "\u001b[1;36m  File \u001b[1;32m\"h5py/h5.pyx\"\u001b[1;36m, line \u001b[1;32m179\u001b[1;36m, in \u001b[1;35mh5py.h5.H5PYConfig.default_file_mode.__set__\u001b[1;36m\u001b[0m\n",
      "\u001b[1;31mValueError\u001b[0m\u001b[1;31m:\u001b[0m Using default_file_mode other than 'r' is no longer supported. Pass the mode to h5py.File() instead.\n",
      "\n",
      "Use %tb to get the full traceback.\n"
     ]
    },
    {
     "data": {
      "text/html": [
       "\n",
       "<style>\n",
       ".button {\n",
       "  border: none;\n",
       "  color: white;\n",
       "  padding: 4px 8px;\n",
       "  text-align: center;\n",
       "  text-decoration: none;\n",
       "  display: inline-block;\n",
       "  font-size: 12px;\n",
       "  margin: 4px 2px;\n",
       "  transition-duration: 0.2s;\n",
       "  cursor: pointer;\n",
       "}\n",
       ".iqx-button {\n",
       "  background-color: #0f62fe; \n",
       "  color: white; \n",
       "}\n",
       ".iqx-button:hover {\n",
       "  background-color: #0043ce;\n",
       "  color: white;\n",
       "}\n",
       "</style>\n",
       "<a href=\"https://stackoverflow.com/search?q=ValueError: Using default_file_mode other than 'r' is no longer supported. Pass the mode to h5py.File() instead.\" target='_blank'><button class='button iqx-button'>Search for solution online</button></a>\n"
      ],
      "text/plain": [
       "<IPython.core.display.HTML object>"
      ]
     },
     "metadata": {},
     "output_type": "display_data"
    }
   ],
   "source": [
    "from qiskit.chemistry.drivers import PySCFDriver, UnitsType, Molecule\n",
    "from qiskit.chemistry.transformations import FermionicTransformation, FermionicQubitMappingType\n",
    "\n",
    "molecule = Molecule(geometry=[['H', [0., 0., 0.]],\n",
    "                              ['H', [0., 0., 0.735]]],\n",
    "                     charge=0, multiplicity=1)\n",
    "driver = PySCFDriver(molecule = molecule, unit=UnitsType.ANGSTROM, basis='sto3g')\n",
    "transformation = FermionicTransformation(qubit_mapping=FermionicQubitMappingType.JORDAN_WIGNER)"
   ]
  },
  {
   "cell_type": "code",
   "execution_count": null,
   "id": "d05d2196",
   "metadata": {},
   "outputs": [],
   "source": [
    "from qiskit import Aer\n",
    "from qiskit.aqua import QuantumInstance\n",
    "from qiskit.chemistry.algorithms.ground_state_solvers.minimum_eigensolver_factories import VQEUCCSDFactory\n",
    "\n",
    "vqe_solver = VQEUCCSDFactory(QuantumInstance(Aer.get_backend('statevector_simulator')))"
   ]
  },
  {
   "cell_type": "code",
   "execution_count": 2,
   "id": "e8dc2c0f",
   "metadata": {},
   "outputs": [
    {
     "name": "stdout",
     "output_type": "stream",
     "text": [
      "Traceback \u001b[1;36m(most recent call last)\u001b[0m:\n",
      "  File \u001b[0;32m\"/tmp/ipykernel_164/3442127541.py\"\u001b[0m, line \u001b[0;32m1\u001b[0m, in \u001b[0;35m<module>\u001b[0m\n",
      "    from qiskit.chemistry.algorithms.ground_state_solvers import GroundStateEigensolver\n",
      "  File \u001b[0;32m\"/opt/conda/lib/python3.8/site-packages/qiskit/chemistry/algorithms/__init__.py\"\u001b[0m, line \u001b[0;32m141\u001b[0m, in \u001b[0;35m<module>\u001b[0m\n",
      "    from .excited_states_solvers import (ExcitedStatesEigensolver, ExcitedStatesSolver, QEOM,\n",
      "  File \u001b[0;32m\"/opt/conda/lib/python3.8/site-packages/qiskit/chemistry/algorithms/excited_states_solvers/__init__.py\"\u001b[0m, line \u001b[0;32m15\u001b[0m, in \u001b[0;35m<module>\u001b[0m\n",
      "    from .excited_states_solver import ExcitedStatesSolver\n",
      "  File \u001b[0;32m\"/opt/conda/lib/python3.8/site-packages/qiskit/chemistry/algorithms/excited_states_solvers/excited_states_solver.py\"\u001b[0m, line \u001b[0;32m18\u001b[0m, in \u001b[0;35m<module>\u001b[0m\n",
      "    from qiskit.chemistry.drivers import BaseDriver\n",
      "  File \u001b[0;32m\"/opt/conda/lib/python3.8/site-packages/qiskit/chemistry/drivers/__init__.py\"\u001b[0m, line \u001b[0;32m144\u001b[0m, in \u001b[0;35m<module>\u001b[0m\n",
      "    from .pyscfd import PySCFDriver, InitialGuess\n",
      "  File \u001b[0;32m\"/opt/conda/lib/python3.8/site-packages/qiskit/chemistry/drivers/pyscfd/__init__.py\"\u001b[0m, line \u001b[0;32m26\u001b[0m, in \u001b[0;35m<module>\u001b[0m\n",
      "    from .pyscfdriver import PySCFDriver, InitialGuess\n",
      "  File \u001b[0;32m\"/opt/conda/lib/python3.8/site-packages/qiskit/chemistry/drivers/pyscfd/pyscfdriver.py\"\u001b[0m, line \u001b[0;32m25\u001b[0m, in \u001b[0;35m<module>\u001b[0m\n",
      "    from .integrals import compute_integrals\n",
      "  File \u001b[0;32m\"/opt/conda/lib/python3.8/site-packages/qiskit/chemistry/drivers/pyscfd/integrals.py\"\u001b[0m, line \u001b[0;32m25\u001b[0m, in \u001b[0;35m<module>\u001b[0m\n",
      "    from pyscf import gto, scf, ao2mo\n",
      "  File \u001b[0;32m\"/opt/conda/lib/python3.8/site-packages/pyscf/__init__.py\"\u001b[0m, line \u001b[0;32m71\u001b[0m, in \u001b[0;35m<module>\u001b[0m\n",
      "    from pyscf import lib\n",
      "  File \u001b[0;32m\"/opt/conda/lib/python3.8/site-packages/pyscf/lib/__init__.py\"\u001b[0m, line \u001b[0;32m24\u001b[0m, in \u001b[0;35m<module>\u001b[0m\n",
      "    from pyscf.lib import numpy_helper\n",
      "  File \u001b[0;32m\"/opt/conda/lib/python3.8/site-packages/pyscf/lib/numpy_helper.py\"\u001b[0m, line \u001b[0;32m27\u001b[0m, in \u001b[0;35m<module>\u001b[0m\n",
      "    from pyscf.lib import misc\n",
      "  File \u001b[0;32m\"/opt/conda/lib/python3.8/site-packages/pyscf/lib/misc.py\"\u001b[0m, line \u001b[0;32m47\u001b[0m, in \u001b[0;35m<module>\u001b[0m\n",
      "    h5py.get_config().default_file_mode = 'a'\n",
      "\u001b[1;36m  File \u001b[1;32m\"h5py/h5.pyx\"\u001b[1;36m, line \u001b[1;32m179\u001b[1;36m, in \u001b[1;35mh5py.h5.H5PYConfig.default_file_mode.__set__\u001b[1;36m\u001b[0m\n",
      "\u001b[1;31mValueError\u001b[0m\u001b[1;31m:\u001b[0m Using default_file_mode other than 'r' is no longer supported. Pass the mode to h5py.File() instead.\n",
      "\n",
      "Use %tb to get the full traceback.\n"
     ]
    },
    {
     "data": {
      "text/html": [
       "\n",
       "<style>\n",
       ".button {\n",
       "  border: none;\n",
       "  color: white;\n",
       "  padding: 4px 8px;\n",
       "  text-align: center;\n",
       "  text-decoration: none;\n",
       "  display: inline-block;\n",
       "  font-size: 12px;\n",
       "  margin: 4px 2px;\n",
       "  transition-duration: 0.2s;\n",
       "  cursor: pointer;\n",
       "}\n",
       ".iqx-button {\n",
       "  background-color: #0f62fe; \n",
       "  color: white; \n",
       "}\n",
       ".iqx-button:hover {\n",
       "  background-color: #0043ce;\n",
       "  color: white;\n",
       "}\n",
       "</style>\n",
       "<a href=\"https://stackoverflow.com/search?q=ValueError: Using default_file_mode other than 'r' is no longer supported. Pass the mode to h5py.File() instead.\" target='_blank'><button class='button iqx-button'>Search for solution online</button></a>\n"
      ],
      "text/plain": [
       "<IPython.core.display.HTML object>"
      ]
     },
     "metadata": {},
     "output_type": "display_data"
    }
   ],
   "source": [
    "from qiskit.chemistry.algorithms.ground_state_solvers import GroundStateEigensolver\n",
    "\n",
    "calc = GroundStateEigensolver(transformation, vqe_solver)\n",
    "res = calc.solve(driver)\n",
    "\n",
    "print(res)"
   ]
  },
  {
   "cell_type": "code",
   "execution_count": 9,
   "id": "ec5b4521",
   "metadata": {},
   "outputs": [
    {
     "name": "stdout",
     "output_type": "stream",
     "text": [
      "Traceback \u001b[1;36m(most recent call last)\u001b[0m:\n",
      "\u001b[1;36m  File \u001b[1;32m\"/tmp/ipykernel_164/3386368594.py\"\u001b[1;36m, line \u001b[1;32m5\u001b[1;36m, in \u001b[1;35m<module>\u001b[1;36m\u001b[0m\n",
      "\u001b[1;33m    calc = GroundStateEigensolver(transformation, numpy_solver)\u001b[0m\n",
      "\u001b[1;31mNameError\u001b[0m\u001b[1;31m:\u001b[0m name 'GroundStateEigensolver' is not defined\n",
      "\n",
      "Use %tb to get the full traceback.\n"
     ]
    },
    {
     "data": {
      "text/html": [
       "\n",
       "<style>\n",
       ".button {\n",
       "  border: none;\n",
       "  color: white;\n",
       "  padding: 4px 8px;\n",
       "  text-align: center;\n",
       "  text-decoration: none;\n",
       "  display: inline-block;\n",
       "  font-size: 12px;\n",
       "  margin: 4px 2px;\n",
       "  transition-duration: 0.2s;\n",
       "  cursor: pointer;\n",
       "}\n",
       ".iqx-button {\n",
       "  background-color: #0f62fe; \n",
       "  color: white; \n",
       "}\n",
       ".iqx-button:hover {\n",
       "  background-color: #0043ce;\n",
       "  color: white;\n",
       "}\n",
       "</style>\n",
       "<a href=\"https://stackoverflow.com/search?q=NameError: name 'GroundStateEigensolver' is not defined\" target='_blank'><button class='button iqx-button'>Search for solution online</button></a>\n"
      ],
      "text/plain": [
       "<IPython.core.display.HTML object>"
      ]
     },
     "metadata": {},
     "output_type": "display_data"
    }
   ],
   "source": [
    "from qiskit.aqua.algorithms import NumPyMinimumEigensolver\n",
    "\n",
    "numpy_solver = NumPyMinimumEigensolver()\n",
    "\n",
    "calc = GroundStateEigensolver(transformation, numpy_solver)\n",
    "res = calc.solve(driver)\n",
    "print(res)"
   ]
  },
  {
   "cell_type": "code",
   "execution_count": 4,
   "id": "962ba378",
   "metadata": {},
   "outputs": [
    {
     "name": "stdout",
     "output_type": "stream",
     "text": [
      "Traceback \u001b[1;36m(most recent call last)\u001b[0m:\n",
      "\u001b[1;36m  File \u001b[1;32m\"/tmp/ipykernel_164/1639551592.py\"\u001b[1;36m, line \u001b[1;32m7\u001b[1;36m, in \u001b[1;35m<module>\u001b[1;36m\u001b[0m\n",
      "\u001b[1;33m    molecule = Molecule(geometry=[['H', [0., 0., 0.]],\u001b[0m\n",
      "\u001b[1;31mNameError\u001b[0m\u001b[1;31m:\u001b[0m name 'Molecule' is not defined\n",
      "\n",
      "Use %tb to get the full traceback.\n"
     ]
    },
    {
     "data": {
      "text/html": [
       "\n",
       "<style>\n",
       ".button {\n",
       "  border: none;\n",
       "  color: white;\n",
       "  padding: 4px 8px;\n",
       "  text-align: center;\n",
       "  text-decoration: none;\n",
       "  display: inline-block;\n",
       "  font-size: 12px;\n",
       "  margin: 4px 2px;\n",
       "  transition-duration: 0.2s;\n",
       "  cursor: pointer;\n",
       "}\n",
       ".iqx-button {\n",
       "  background-color: #0f62fe; \n",
       "  color: white; \n",
       "}\n",
       ".iqx-button:hover {\n",
       "  background-color: #0043ce;\n",
       "  color: white;\n",
       "}\n",
       "</style>\n",
       "<a href=\"https://stackoverflow.com/search?q=NameError: name 'Molecule' is not defined\" target='_blank'><button class='button iqx-button'>Search for solution online</button></a>\n"
      ],
      "text/plain": [
       "<IPython.core.display.HTML object>"
      ]
     },
     "metadata": {},
     "output_type": "display_data"
    }
   ],
   "source": [
    "import numpy as np\n",
    "\n",
    "distances = np.linspace(0.25, 3.0, 30)\n",
    "exact_energies = []\n",
    "vqe_energies = []\n",
    "for dist in distances:\n",
    "    molecule = Molecule(geometry=[['H', [0., 0., 0.]],\n",
    "                              ['H', [0., 0., dist]]],\n",
    "                     charge=0, multiplicity=1)\n",
    "    driver = PySCFDriver(molecule = molecule, unit=UnitsType.ANGSTROM, basis='sto3g')\n",
    "    # Exact solver\n",
    "    calc = GroundStateEigensolver(transformation, numpy_solver)\n",
    "    res = calc.solve(driver)\n",
    "    exact_energies.append(res.total_energies)\n",
    "    # VQE\n",
    "    calc = GroundStateEigensolver(transformation, vqe_solver)\n",
    "    res = calc.solve(driver)\n",
    "    vqe_energies.append(res.total_energies)\n",
    "    "
   ]
  },
  {
   "cell_type": "code",
   "execution_count": 5,
   "id": "0810003f",
   "metadata": {},
   "outputs": [
    {
     "data": {
      "image/png": "[encoded data removed]",
      "text/plain": [
       "<Figure size 432x288 with 1 Axes>"
      ]
     },
     "metadata": {
      "needs_background": "light"
     },
     "output_type": "display_data"
    }
   ],
   "source": [
    "import matplotlib.pyplot as plt\n",
    "\n",
    "plt.plot(exact_energies, label = 'Exact solver')\n",
    "plt.plot(vqe_energies, label = 'VQE')\n",
    "plt.title('Dissociation profile')\n",
    "plt.xlabel('Interatomic distance')\n",
    "plt.legend()\n",
    "plt.ylabel('Energy');"
   ]
  },
  {
   "cell_type": "code",
   "execution_count": null,
   "id": "3c5c3c1a",
   "metadata": {},
   "outputs": [],
   "source": []
  },
  {
   "cell_type": "code",
   "execution_count": null,
   "id": "a78b8866",
   "metadata": {},
   "outputs": [],
   "source": []
  }
 ],
 "metadata": {
  "kernelspec": {
   "display_name": "Python 3 (ipykernel)",
   "language": "python",
   "name": "python3"
  },
  "language_info": {
   "codemirror_mode": {
    "name": "ipython",
    "version": 3
   },
   "file_extension": ".py",
   "mimetype": "text/x-python",
   "name": "python",
   "nbconvert_exporter": "python",
   "pygments_lexer": "ipython3",
   "version": "3.8.10"
  }
 },
 "nbformat": 4,
 "nbformat_minor": 5
}
