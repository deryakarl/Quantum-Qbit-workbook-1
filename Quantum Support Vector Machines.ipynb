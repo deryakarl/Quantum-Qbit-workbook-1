{
 "cells": [
  {
   "cell_type": "code",
   "execution_count": null,
   "id": "4a8cb5c8",
   "metadata": {},
   "outputs": [],
   "source": [
    "import matplotlib.pyplot as plt\n",
    "import numpy as np\n",
    "from qiskit import Aer\n",
    "from qiskit.ml.datasets import breast_cancer\n",
    "from qiskit.circuit.library import ZZFeatureMap\n",
    "from qiskit.aqua import QuantumInstance\n",
    "from qiskit.aqua.algorithms import QSVM\n",
    "\n",
    "# Loading your IBM Quantum account(s)\n",
    "provider = IBMQ.load_account()"
   ]
  },
  {
   "cell_type": "code",
   "execution_count": null,
   "id": "f85af667",
   "metadata": {},
   "outputs": [],
   "source": [
    "np.random.seed(2020)\n",
    "n = 30\n",
    "\n",
    "# Training examples for class 0\n",
    "\n",
    "mean = [0, 1]\n",
    "cov = [[0.1, 0], [0, 0.1]]\n",
    "\n",
    "A = (np.random.multivariate_normal(mean, cov, n))\n",
    "x_A, y_A = A.T\n",
    "plt.plot(x_A, y_A, 'ro');\n",
    "\n",
    "# Training examples for class 1\n",
    "\n",
    "mean = [1, 0]\n",
    "cov = [[0.1, 0], [0, 0.1]]\n",
    "\n",
    "B = (np.random.multivariate_normal(mean, cov, n))\n",
    "x_B, y_B = B.T\n",
    "plt.plot(x_B, y_B, 'bo');"
   ]
  },
  {
   "cell_type": "code",
   "execution_count": null,
   "id": "a4c4138d",
   "metadata": {},
   "outputs": [],
   "source": [
    "feature_map = ZZFeatureMap(feature_dimension=2, reps=2, entanglement='linear')\n",
    "feature_map.draw()"
   ]
  },
  {
   "cell_type": "code",
   "execution_count": null,
   "id": "075a03b7",
   "metadata": {},
   "outputs": [],
   "source": [
    "training_input = np.append(A,B,axis =0)\n",
    "training_labels = np.array([0]*n+[1]*n) # Training labels are 0 and 1 \n",
    "\n",
    "backend = Aer.get_backend('statevector_simulator')\n",
    "quantum_instance = QuantumInstance(backend)\n",
    "qsvm = QSVM(feature_map, quantum_instance = quantum_instance)\n",
    "\n",
    "qsvm.train(training_input,training_labels)\n"
   ]
  },
  {
   "cell_type": "code",
   "execution_count": null,
   "id": "211dc70f",
   "metadata": {},
   "outputs": [],
   "source": [
    "n = 10\n",
    "\n",
    "# Test examples for class 0\n",
    "\n",
    "mean = [0, 1]\n",
    "cov = [[0.1, 0], [0, 0.1]]\n",
    "\n",
    "C = (np.random.multivariate_normal(mean, cov, n))\n",
    "x_C, y_C = C.T\n",
    "plt.plot(x_C, y_C, 'ro');\n",
    "\n",
    "# Test examples for class 1\n",
    "\n",
    "mean = [1, 0]\n",
    "cov = [[0.05, 0], [0, 0.05]]\n",
    "\n",
    "D = (np.random.multivariate_normal(mean, cov, n))\n",
    "x_D, y_D = D.T\n",
    "plt.plot(x_D, y_D, 'bo');"
   ]
  },
  {
   "cell_type": "code",
   "execution_count": null,
   "id": "1530cb22",
   "metadata": {},
   "outputs": [],
   "source": [
    "print(\"Prediction for examples in test class 0\",qsvm.predict(C))\n",
    "print(\"Prediction for examples in test class 1\",qsvm.predict(D))\n",
    "\n",
    "test_input = np.append(C,D,axis =0)\n",
    "test_labels = np.array([0]*n+[1]*n)\n",
    "\n",
    "print(\"Accuracy\",qsvm.test(test_input,test_labels))"
   ]
  },
  {
   "cell_type": "code",
   "execution_count": null,
   "id": "33a93509",
   "metadata": {},
   "outputs": [],
   "source": [
    "sample_Total, training_input, test_input, class_labels = breast_cancer(\n",
    "    training_size=100,\n",
    "    test_size=10,\n",
    "    n=2,\n",
    "    plot_data=True\n",
    ")"
   ]
  },
  {
   "cell_type": "code",
   "execution_count": null,
   "id": "a5c59651",
   "metadata": {},
   "outputs": [],
   "source": [
    "feature_map = ZZFeatureMap(feature_dimension=2, reps=1, entanglement='linear')\n",
    "feature_map.draw()"
   ]
  },
  {
   "cell_type": "code",
   "execution_count": null,
   "id": "31a72bf0",
   "metadata": {
    "scrolled": true
   },
   "outputs": [],
   "source": [
    "\n",
    "qsvm = QSVM(feature_map, training_input, test_input)\n",
    "result = qsvm.run(quantum_instance)\n",
    "\n",
    "print(\"Accuracy: \", result['testing_accuracy'])\n"
   ]
  },
  {
   "cell_type": "code",
   "execution_count": null,
   "id": "ba4105c7",
   "metadata": {},
   "outputs": [],
   "source": [
    "feature_map = ZZFeatureMap(feature_dimension=2, reps=2, entanglement='linear')\n",
    "feature_map.draw()"
   ]
  },
  {
   "cell_type": "code",
   "execution_count": null,
   "id": "d43e0cbc",
   "metadata": {},
   "outputs": [],
   "source": [
    "qsvm = QSVM(feature_map, training_input, test_input)\n",
    "result = qsvm.run(quantum_instance)\n",
    "\n",
    "print(\"Accuracy: \", result['testing_accuracy'])"
   ]
  },
  {
   "cell_type": "code",
   "execution_count": null,
   "id": "b0db6391",
   "metadata": {},
   "outputs": [],
   "source": []
  }
 ],
 "metadata": {
  "kernelspec": {
   "display_name": "Python 3 (ipykernel)",
   "language": "python",
   "name": "python3"
  },
  "language_info": {
   "codemirror_mode": {
    "name": "ipython",
    "version": 3
   },
   "file_extension": ".py",
   "mimetype": "text/x-python",
   "name": "python",
   "nbconvert_exporter": "python",
   "pygments_lexer": "ipython3",
   "version": "3.8.10"
  }
 },
 "nbformat": 4,
 "nbformat_minor": 5
}
